{
 "cells": [
  {
   "cell_type": "code",
   "execution_count": 6,
   "id": "28a3508e",
   "metadata": {},
   "outputs": [],
   "source": [
    "import scipy.stats as stats\n",
    "from scipy.stats import norm"
   ]
  },
  {
   "cell_type": "markdown",
   "id": "bf7fde18",
   "metadata": {},
   "source": [
    "3.\t1.25% Auditors at a small community bank randomly sample 100 withdrawal transactions made during the week at an ATM machine located near the bank’s main branch. Over the past 2 years, the average withdrawal amount has been $50 with a standard deviation of $40. Since audit investigations are typically expensive, the auditors decide to not initiate further investigations if the mean transaction amount of the sample is between $45 and $55. What is the probability that in any given week, there will be an investigation?"
   ]
  },
  {
   "cell_type": "raw",
   "id": "8a4a8538",
   "metadata": {},
   "source": [
    "Sample Size n = 100\n",
    "Population Mean = 50\n",
    "Population S.D. = 40\n",
    "As the number of samples is greater than 30, then we consider here normal distribution."
   ]
  },
  {
   "cell_type": "raw",
   "id": "930692e1",
   "metadata": {},
   "source": [
    "For No investigation P(45<X<55)\n",
    "For Investigation 1-P(45<X<55)"
   ]
  },
  {
   "cell_type": "code",
   "execution_count": 20,
   "id": "fac69e68",
   "metadata": {},
   "outputs": [
    {
     "data": {
      "text/plain": [
       "-1.25"
      ]
     },
     "execution_count": 20,
     "metadata": {},
     "output_type": "execute_result"
    }
   ],
   "source": [
    "# Finding z score for 45 and 55 values \n",
    "# Formula = z=(s_mean-P_mean)/(p_SD/sqrt(n))\n",
    "z1 = (45-50)/(40/10)\n",
    "z1"
   ]
  },
  {
   "cell_type": "code",
   "execution_count": 21,
   "id": "8a66b74e",
   "metadata": {},
   "outputs": [
    {
     "data": {
      "text/plain": [
       "1.25"
      ]
     },
     "execution_count": 21,
     "metadata": {},
     "output_type": "execute_result"
    }
   ],
   "source": [
    "z2 = (55-50)/(40/10)\n",
    "z2"
   ]
  },
  {
   "cell_type": "code",
   "execution_count": 22,
   "id": "e293c8a5",
   "metadata": {},
   "outputs": [
    {
     "data": {
      "text/plain": [
       "0.7887004526662893"
      ]
     },
     "execution_count": 22,
     "metadata": {},
     "output_type": "execute_result"
    }
   ],
   "source": [
    "p = stats.norm.cdf(z2) - stats.norm.cdf(z1)\n",
    "p"
   ]
  },
  {
   "cell_type": "code",
   "execution_count": 24,
   "id": "65e375f0",
   "metadata": {},
   "outputs": [
    {
     "data": {
      "text/plain": [
       "21.129954733371072"
      ]
     },
     "execution_count": 24,
     "metadata": {},
     "output_type": "execute_result"
    }
   ],
   "source": [
    "(1-p)*100"
   ]
  },
  {
   "cell_type": "markdown",
   "id": "e1bd9c33",
   "metadata": {},
   "source": [
    "### Option D) 21.1%"
   ]
  },
  {
   "cell_type": "markdown",
   "id": "568a9b86",
   "metadata": {},
   "source": [
    "4.\tThe auditors from the above example would like to maintain the probability of investigation to 5%. Which of the following represents the minimum number transactions that they should sample if they do not want to change the thresholds of 45 and 55? Assume that the sample statistics remain unchanged."
   ]
  },
  {
   "cell_type": "code",
   "execution_count": 95,
   "id": "bd9eb3c7",
   "metadata": {},
   "outputs": [],
   "source": [
    "n = 250\n",
    "mean = 50\n",
    "std = 40"
   ]
  },
  {
   "cell_type": "code",
   "execution_count": 96,
   "id": "37403e12",
   "metadata": {},
   "outputs": [],
   "source": [
    "z1 = (45-mean)/(std/(n)**0.5)"
   ]
  },
  {
   "cell_type": "code",
   "execution_count": 97,
   "id": "c3d1e21a",
   "metadata": {},
   "outputs": [],
   "source": [
    "z2 = (55-mean)/(std/(n)**0.5)"
   ]
  },
  {
   "cell_type": "code",
   "execution_count": 98,
   "id": "ad39a0cc",
   "metadata": {},
   "outputs": [],
   "source": [
    "p = stats.norm.cdf(z2) - stats.norm.cdf(z1)\n"
   ]
  },
  {
   "cell_type": "code",
   "execution_count": 99,
   "id": "cbed1a0c",
   "metadata": {},
   "outputs": [
    {
     "data": {
      "text/plain": [
       "0.0481068278885195"
      ]
     },
     "execution_count": 99,
     "metadata": {},
     "output_type": "execute_result"
    }
   ],
   "source": [
    "1-p"
   ]
  },
  {
   "cell_type": "code",
   "execution_count": 100,
   "id": "f7e05da2",
   "metadata": {},
   "outputs": [
    {
     "data": {
      "text/plain": [
       "4.81068278885195"
      ]
     },
     "execution_count": 100,
     "metadata": {},
     "output_type": "execute_result"
    }
   ],
   "source": [
    "(1-p) * 100"
   ]
  },
  {
   "cell_type": "markdown",
   "id": "82ebac78",
   "metadata": {},
   "source": [
    "Ans : Option D) 250"
   ]
  },
  {
   "cell_type": "code",
   "execution_count": null,
   "id": "3252d34c",
   "metadata": {},
   "outputs": [],
   "source": []
  },
  {
   "cell_type": "code",
   "execution_count": null,
   "id": "127b4a12",
   "metadata": {},
   "outputs": [],
   "source": []
  },
  {
   "cell_type": "code",
   "execution_count": null,
   "id": "0af203c2",
   "metadata": {},
   "outputs": [],
   "source": []
  },
  {
   "cell_type": "code",
   "execution_count": null,
   "id": "a93dc3f4",
   "metadata": {},
   "outputs": [],
   "source": []
  },
  {
   "cell_type": "code",
   "execution_count": null,
   "id": "7f42924e",
   "metadata": {},
   "outputs": [],
   "source": []
  }
 ],
 "metadata": {
  "kernelspec": {
   "display_name": "Python 3",
   "language": "python",
   "name": "python3"
  },
  "language_info": {
   "codemirror_mode": {
    "name": "ipython",
    "version": 3
   },
   "file_extension": ".py",
   "mimetype": "text/x-python",
   "name": "python",
   "nbconvert_exporter": "python",
   "pygments_lexer": "ipython3",
   "version": "3.8.8"
  }
 },
 "nbformat": 4,
 "nbformat_minor": 5
}

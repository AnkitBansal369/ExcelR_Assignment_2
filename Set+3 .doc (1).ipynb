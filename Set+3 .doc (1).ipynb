{
 "cells": [
  {
   "cell_type": "code",
   "execution_count": 2,
   "id": "c241bb69",
   "metadata": {},
   "outputs": [],
   "source": [
    "import numpy as np\n",
    "from scipy import stats\n",
    "from scipy.stats import norm"
   ]
  },
  {
   "cell_type": "markdown",
   "id": "be99223a",
   "metadata": {},
   "source": [
    "5.\tIn January 2005, a company that monitors Internet traffic (WebSideStory) reported that its sampling revealed that the Mozilla Firefox browser launched in 2004 had grabbed a 4.6% share of the market."
   ]
  },
  {
   "cell_type": "markdown",
   "id": "50c32022",
   "metadata": {},
   "source": [
    "I.\tIf the sample were based on 2,000 users, could Microsoft conclude that Mozilla has a less than 5% share of the market?\n"
   ]
  },
  {
   "cell_type": "code",
   "execution_count": 11,
   "id": "5ef6c8df",
   "metadata": {},
   "outputs": [],
   "source": [
    "# Null Hypothesis\n",
    "# p >= 5%\n",
    "\n",
    "# Alternate Hypothesis\n",
    "# p < 5%\n",
    "\n",
    "# As alternate hypothesis is having less than symbol (<) so it is a left tail test."
   ]
  },
  {
   "cell_type": "code",
   "execution_count": 13,
   "id": "0d1e1eb6",
   "metadata": {},
   "outputs": [
    {
     "data": {
      "text/plain": [
       "0.050000000000000044"
      ]
     },
     "execution_count": 13,
     "metadata": {},
     "output_type": "execute_result"
    }
   ],
   "source": [
    "# Confidence Interval\n",
    "ci = 0.95\n",
    "alpha = 1 - ci\n",
    "alpha"
   ]
  },
  {
   "cell_type": "code",
   "execution_count": 8,
   "id": "e2b94938",
   "metadata": {},
   "outputs": [
    {
     "data": {
      "text/plain": [
       "-0.820782681668124"
      ]
     },
     "execution_count": 8,
     "metadata": {},
     "output_type": "execute_result"
    }
   ],
   "source": [
    "z_stat=(0.046-0.05)/(np.sqrt((0.05*(1-0.05))/2000))\n",
    "z_stat"
   ]
  },
  {
   "cell_type": "code",
   "execution_count": 14,
   "id": "89f537e1",
   "metadata": {},
   "outputs": [
    {
     "data": {
      "text/plain": [
       "-1.6448536269514722"
      ]
     },
     "execution_count": 14,
     "metadata": {},
     "output_type": "execute_result"
    }
   ],
   "source": [
    "# For Two Tail Test :\n",
    "# Z Critical = ppf(1-alpha/2)\n",
    "\n",
    "# For Left Tail Test :\n",
    "# Z Critical = ppf(alpha)\n",
    "\n",
    "# For Right Tail Test :\n",
    "# Z Critical = ppf(1-alpha)\n",
    "\n",
    "z_critical = stats.norm.ppf(alpha)\n",
    "z_critical"
   ]
  },
  {
   "cell_type": "code",
   "execution_count": 10,
   "id": "0d827de8",
   "metadata": {},
   "outputs": [
    {
     "data": {
      "text/plain": [
       "True"
      ]
     },
     "execution_count": 10,
     "metadata": {},
     "output_type": "execute_result"
    }
   ],
   "source": [
    "z_critical < z_stat"
   ]
  },
  {
   "cell_type": "markdown",
   "id": "b0b87def",
   "metadata": {},
   "source": [
    "Inference - Here, Null Hypothesis is accepted..!\n",
    "            Mozilla market share >= 5% Thus, Microsoft can not conclude that Mozilla has a less than 5% share of the market."
   ]
  },
  {
   "cell_type": "markdown",
   "id": "748f9a61",
   "metadata": {},
   "source": [
    "## II.\tWebSideStory claims that its sample includes all the daily Internet users. If that’s the case, then can Microsoft conclude that Mozilla has a less than 5% share of the market"
   ]
  },
  {
   "cell_type": "markdown",
   "id": "9ecff1bc",
   "metadata": {},
   "source": [
    "As WebSideStory claims that its sample includes all daily internet users so their sample is very close to the population. So Microsoft can accept the statistics of WebSideStory that is Mozilla share is 4.6%. Hence Microsoft can say that Mozilla has less than 5% share of the market."
   ]
  },
  {
   "cell_type": "markdown",
   "id": "81f58075",
   "metadata": {},
   "source": [
    "Questions 8 and 9 are based on the following: To prepare a report on the economy, analysts need to estimate the percentage of businesses that plan to hire additional employees in the next 60 days.\n",
    "\n"
   ]
  },
  {
   "cell_type": "markdown",
   "id": "23ea9ccf",
   "metadata": {},
   "source": [
    "8.\tHow many randomly selected employers (minimum number) must we contact in order to guarantee a margin of error of no more than 4% (at 95% confidence)?\n",
    "\n"
   ]
  },
  {
   "cell_type": "code",
   "execution_count": 6,
   "id": "a46812a0",
   "metadata": {},
   "outputs": [
    {
     "data": {
      "text/plain": [
       "422.74116470240824"
      ]
     },
     "execution_count": 6,
     "metadata": {},
     "output_type": "execute_result"
    }
   ],
   "source": [
    "# My P-value would be 0.5\n",
    "#As margin of error is given not more than 4% i.e. = 0.04\n",
    "# The Z value for the 95% confidenc interval is (-1.6)\n",
    "#Probablity of not getting selected Q = 1 - P = 1 - 0.5 = 0.5\n",
    "\n",
    "#Now, Sample Size Formula is \n",
    "# S = Z^2 * P * Q / E^2\n",
    "\n",
    "# ci is given and we need to calculate z score\n",
    "\n",
    "import scipy.stats as stats\n",
    "a = stats.norm.ppf(0.95)\n",
    "\n",
    "S = ((a)**2 * 0.5 * 0.5)/(0.04)**2\n",
    "S"
   ]
  },
  {
   "cell_type": "code",
   "execution_count": 7,
   "id": "7209c3ef",
   "metadata": {},
   "outputs": [
    {
     "data": {
      "text/plain": [
       "400.00000000000006"
      ]
     },
     "execution_count": 7,
     "metadata": {},
     "output_type": "execute_result"
    }
   ],
   "source": [
    "#If we take the value manually from the Z-Table then \n",
    "S = ((-1.6)**2  * 0.5 * 0.5)/(0.04)**2\n",
    "S"
   ]
  },
  {
   "cell_type": "markdown",
   "id": "df999d4d",
   "metadata": {},
   "source": [
    "So, answer is Option B)"
   ]
  },
  {
   "cell_type": "markdown",
   "id": "d5cecfb9",
   "metadata": {},
   "source": [
    "9.\tSuppose we want the above margin of error to be based on a 98% confidence level. What sample size (minimum) must we now use?\n",
    "\n"
   ]
  },
  {
   "cell_type": "code",
   "execution_count": 8,
   "id": "aa4c75d6",
   "metadata": {},
   "outputs": [],
   "source": [
    "# My P-value would be 0.5\n",
    "#As margin of error is given not more than 4% i.e. = 0.04\n",
    "# The Z value for the 95% confidenc interval is (-1.6)\n",
    "#Probablity of not getting selected Q = 1 - P = 1 - 0.5 = 0.5\n",
    "\n",
    "#Now, Sample Size Formula is \n",
    "# S = Z^2 * P * Q / E^2\n",
    "\n",
    "# ci is given and you need to calculate z score\n"
   ]
  },
  {
   "cell_type": "code",
   "execution_count": 9,
   "id": "e59a89f0",
   "metadata": {},
   "outputs": [
    {
     "data": {
      "text/plain": [
       "0.9798177845942956"
      ]
     },
     "execution_count": 9,
     "metadata": {},
     "output_type": "execute_result"
    }
   ],
   "source": [
    "# z score is given and we need to calculate ci\n",
    "stats.norm.cdf(2.05)"
   ]
  },
  {
   "cell_type": "code",
   "execution_count": 10,
   "id": "46c588e8",
   "metadata": {},
   "outputs": [
    {
     "data": {
      "text/plain": [
       "1.6448536269514722"
      ]
     },
     "execution_count": 10,
     "metadata": {},
     "output_type": "execute_result"
    }
   ],
   "source": [
    "stats.norm.ppf(0.95)"
   ]
  },
  {
   "cell_type": "code",
   "execution_count": 11,
   "id": "16a8b16d",
   "metadata": {},
   "outputs": [
    {
     "data": {
      "text/plain": [
       "659.0444668627183"
      ]
     },
     "execution_count": 11,
     "metadata": {},
     "output_type": "execute_result"
    }
   ],
   "source": [
    "stats.norm.ppf(0.98) * stats.norm.ppf(0.98) * 0.5 * 0.5 / (0.04)**2"
   ]
  },
  {
   "cell_type": "markdown",
   "id": "f6bba12b",
   "metadata": {},
   "source": [
    "Answer is Option B), AS 659 is more close to 757."
   ]
  },
  {
   "cell_type": "code",
   "execution_count": null,
   "id": "cc6a7cc3",
   "metadata": {},
   "outputs": [],
   "source": []
  },
  {
   "cell_type": "code",
   "execution_count": null,
   "id": "7b5a92eb",
   "metadata": {},
   "outputs": [],
   "source": []
  }
 ],
 "metadata": {
  "kernelspec": {
   "display_name": "Python 3",
   "language": "python",
   "name": "python3"
  },
  "language_info": {
   "codemirror_mode": {
    "name": "ipython",
    "version": 3
   },
   "file_extension": ".py",
   "mimetype": "text/x-python",
   "name": "python",
   "nbconvert_exporter": "python",
   "pygments_lexer": "ipython3",
   "version": "3.8.8"
  }
 },
 "nbformat": 4,
 "nbformat_minor": 5
}

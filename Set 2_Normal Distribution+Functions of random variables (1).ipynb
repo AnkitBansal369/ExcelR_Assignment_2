{
 "cells": [
  {
   "cell_type": "code",
   "execution_count": 3,
   "id": "052a937f",
   "metadata": {},
   "outputs": [],
   "source": [
    "import numpy as py\n",
    "import pandas as pd\n",
    "from scipy.stats import norm"
   ]
  },
  {
   "cell_type": "markdown",
   "id": "af72fc4f",
   "metadata": {},
   "source": [
    "1.\tThe time required for servicing transmissions is normally distributed with  = 45 minutes and  = 8 minutes. The service manager plans to have work begin on the transmission of a customer’s car 10 minutes after the car is dropped off and the customer is told that the car will be ready within 1 hour from drop-off. What is the probability that the service manager cannot meet his commitment? "
   ]
  },
  {
   "cell_type": "markdown",
   "id": "3a86c191",
   "metadata": {},
   "source": [
    "\n"
   ]
  },
  {
   "cell_type": "code",
   "execution_count": 4,
   "id": "56fdec63",
   "metadata": {},
   "outputs": [
    {
     "data": {
      "text/plain": [
       "0.26598552904870054"
      ]
     },
     "execution_count": 4,
     "metadata": {},
     "output_type": "execute_result"
    }
   ],
   "source": [
    "norm.cdf(40,45,8) #Option B"
   ]
  },
  {
   "cell_type": "markdown",
   "id": "234d3d2d",
   "metadata": {},
   "source": [
    "#### 2.\tThe current age (in years) of 400 clerical employees at an insurance claims processing center is normally distributed with mean  = 38 and Standard deviation  =6. For each statement below, please specify True/False. If false, briefly explain why."
   ]
  },
  {
   "cell_type": "markdown",
   "id": "bfd56bb9",
   "metadata": {},
   "source": [
    "#### A.More employees at the processing center are older than 44 than between 38 and 44."
   ]
  },
  {
   "cell_type": "code",
   "execution_count": 5,
   "id": "3a862b94",
   "metadata": {},
   "outputs": [
    {
     "data": {
      "text/plain": [
       "0.15865525393145707"
      ]
     },
     "execution_count": 5,
     "metadata": {},
     "output_type": "execute_result"
    }
   ],
   "source": [
    "#Employees having age older than 44 i.e. p(X>44)\n",
    "norm.sf(44,38,6)"
   ]
  },
  {
   "cell_type": "code",
   "execution_count": 6,
   "id": "9781897e",
   "metadata": {},
   "outputs": [
    {
     "data": {
      "text/plain": [
       "0.3413447460685429"
      ]
     },
     "execution_count": 6,
     "metadata": {},
     "output_type": "execute_result"
    }
   ],
   "source": [
    "#Employees having age between 38 and 44 i.e. p(38<X<44)\n",
    "norm.cdf(44,38,6) - norm.cdf(38,38,6)"
   ]
  },
  {
   "cell_type": "markdown",
   "id": "6fd378f4",
   "metadata": {},
   "source": [
    "#### Ans: False, because the employees at the processing centre  having age between 38 and 44 are more than the employess having age more than 44."
   ]
  },
  {
   "cell_type": "markdown",
   "id": "a50e065e",
   "metadata": {},
   "source": [
    "B.A training program for employees under the age of 30 at the center would be expected to attract about 36 employees.\n",
    "\n"
   ]
  },
  {
   "cell_type": "code",
   "execution_count": 7,
   "id": "81d9afbe",
   "metadata": {},
   "outputs": [
    {
     "data": {
      "text/plain": [
       "0.09121121972586788"
      ]
     },
     "execution_count": 7,
     "metadata": {},
     "output_type": "execute_result"
    }
   ],
   "source": [
    "#Employees under the age 30 i.e. p(X<30)\n",
    "norm.cdf(30,38,6)"
   ]
  },
  {
   "cell_type": "code",
   "execution_count": 8,
   "id": "aabcebe3",
   "metadata": {},
   "outputs": [
    {
     "data": {
      "text/plain": [
       "36.484487890347154"
      ]
     },
     "execution_count": 8,
     "metadata": {},
     "output_type": "execute_result"
    }
   ],
   "source": [
    "# No. of employees attending training program from 400 nos. is N*p(X<30)\n",
    "400*norm.cdf(30,38,6)"
   ]
  },
  {
   "cell_type": "markdown",
   "id": "3a7fcd10",
   "metadata": {},
   "source": [
    "True, beacuse a training program for employees under the age of 30 at the center would be expected to attract about approx 36 employees."
   ]
  },
  {
   "cell_type": "markdown",
   "id": "eb63e745",
   "metadata": {},
   "source": [
    "### 4.\tLet X ~ N (100, 202). Find two values, a and b, symmetric about the mean, such that the probability of the random variable taking a value between them is 0.99. "
   ]
  },
  {
   "cell_type": "code",
   "execution_count": 9,
   "id": "e390bfff",
   "metadata": {},
   "outputs": [
    {
     "data": {
      "text/plain": [
       "(48.48341392902199, 151.516586070978)"
      ]
     },
     "execution_count": 9,
     "metadata": {},
     "output_type": "execute_result"
    }
   ],
   "source": [
    "norm.interval(0.99 , 100 , 20) #Option D is correct "
   ]
  },
  {
   "cell_type": "raw",
   "id": "70271480",
   "metadata": {},
   "source": [
    "5.Consider a company that has two different divisions. The annual profits from the two divisions are independent and have distributions Profit1 ~ N(5, 32) and Profit2 ~ N(7, 42) respectively. Both the profits are in $ Million. Answer the following questions about the total profit of the company in Rupees. Assume that $1 = Rs. 45"
   ]
  },
  {
   "cell_type": "code",
   "execution_count": 10,
   "id": "c4b98cf1",
   "metadata": {},
   "outputs": [],
   "source": [
    "# Profit from first division\n",
    "# N(5,9)\n",
    "\n",
    "# Profit from second division\n",
    "# N(7,16)\n",
    "\n",
    "# Total profit of the company\n",
    "# N(5,9) + N(7,16)\n",
    "# N(12,25)"
   ]
  },
  {
   "cell_type": "code",
   "execution_count": 11,
   "id": "afb321d4",
   "metadata": {},
   "outputs": [],
   "source": [
    "# Mean Profit for company is  -- $12 Million\n",
    "#                             -- 12 * 45 Million\n",
    "#                             -- 540 Million"
   ]
  },
  {
   "cell_type": "code",
   "execution_count": 12,
   "id": "3d06a3e4",
   "metadata": {},
   "outputs": [],
   "source": [
    "# Variance Profit for company is -- $25 Million\n",
    "#                                -- 45 * 25 Million\n",
    "#                                -- 1125 Million "
   ]
  },
  {
   "cell_type": "code",
   "execution_count": 13,
   "id": "831f8308",
   "metadata": {},
   "outputs": [],
   "source": [
    "# Standard Deviation Profit for the company --- $5 Million\n",
    "#                                           --- 45 * 5 Million\n",
    "#                                           --- 225 Million"
   ]
  },
  {
   "cell_type": "markdown",
   "id": "793511ad",
   "metadata": {},
   "source": [
    "A. Specify a Rupee range (centered on the mean) such that it contains 95% probability for the annual profit of the company"
   ]
  },
  {
   "cell_type": "code",
   "execution_count": 14,
   "id": "45ef7527",
   "metadata": {},
   "outputs": [
    {
     "data": {
      "text/plain": [
       "(99.00810347848784, 980.9918965215122)"
      ]
     },
     "execution_count": 14,
     "metadata": {},
     "output_type": "execute_result"
    }
   ],
   "source": [
    "norm.interval(0.95,540,225)"
   ]
  },
  {
   "cell_type": "markdown",
   "id": "d2c5f9a8",
   "metadata": {},
   "source": [
    "B. Specify the 5th percentile of profit (in Rupees) for the company"
   ]
  },
  {
   "cell_type": "code",
   "execution_count": 17,
   "id": "78deebc8",
   "metadata": {},
   "outputs": [
    {
     "data": {
      "text/plain": [
       "180.0"
      ]
     },
     "execution_count": 17,
     "metadata": {},
     "output_type": "execute_result"
    }
   ],
   "source": [
    "# To compute nth percentile weuse th formula\n",
    "# X = mean + Z * (standard deviation)\n",
    "# From z-Table we can computer the Z value for given percentile\n",
    "# 5th percentile Z value = -1.6\n",
    "X = 540 + (-1.6 * 225)\n",
    "X"
   ]
  },
  {
   "cell_type": "markdown",
   "id": "06196d76",
   "metadata": {},
   "source": [
    "#### C.Which of the two divisions has a larger probability of making a loss in a given year?"
   ]
  },
  {
   "cell_type": "code",
   "execution_count": 13,
   "id": "1ae0babb",
   "metadata": {},
   "outputs": [
    {
     "data": {
      "text/plain": [
       "0.0477903522728147"
      ]
     },
     "execution_count": 13,
     "metadata": {},
     "output_type": "execute_result"
    }
   ],
   "source": [
    "#P(X<0)\n",
    "#For the first division: - \n",
    "norm.cdf(0,5,3)"
   ]
  },
  {
   "cell_type": "code",
   "execution_count": 14,
   "id": "ce27f639",
   "metadata": {},
   "outputs": [
    {
     "data": {
      "text/plain": [
       "0.040059156863817086"
      ]
     },
     "execution_count": 14,
     "metadata": {},
     "output_type": "execute_result"
    }
   ],
   "source": [
    "#For the second division : -\n",
    "norm.cdf(0,7,4)"
   ]
  },
  {
   "cell_type": "markdown",
   "id": "e6e2817b",
   "metadata": {},
   "source": [
    "##### Conclusion : - The first division has a larger probability of making loss in a given year."
   ]
  },
  {
   "cell_type": "code",
   "execution_count": null,
   "id": "351445d1",
   "metadata": {},
   "outputs": [],
   "source": []
  }
 ],
 "metadata": {
  "kernelspec": {
   "display_name": "Python 3",
   "language": "python",
   "name": "python3"
  },
  "language_info": {
   "codemirror_mode": {
    "name": "ipython",
    "version": 3
   },
   "file_extension": ".py",
   "mimetype": "text/x-python",
   "name": "python",
   "nbconvert_exporter": "python",
   "pygments_lexer": "ipython3",
   "version": "3.8.8"
  }
 },
 "nbformat": 4,
 "nbformat_minor": 5
}
